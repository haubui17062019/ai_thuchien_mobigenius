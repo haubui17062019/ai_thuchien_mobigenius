{
 "cells": [
  {
   "cell_type": "code",
   "execution_count": null,
   "id": "b63f0385",
   "metadata": {},
   "outputs": [],
   "source": [
    "from prompt import *"
   ]
  },
  {
   "cell_type": "code",
   "execution_count": null,
   "id": "b6642455",
   "metadata": {},
   "outputs": [],
   "source": [
    "from openai import OpenAI\n",
    "\n",
    "\n",
    "###Sinh văn bản (Text Generation)###\n",
    "# --- Cấu hình ---\n",
    "# Thay <your_api_key> bằng API key của bạn\n",
    "def text_generation(model, messages):\n",
    "    client = OpenAI(\n",
    "    api_key=\"sk-QkdYynDUd9WAfFN5M8GjeQ\",\n",
    "    base_url=\"https://api.thucchien.ai\"\n",
    "    )\n",
    "\n",
    "    # --- Thực thi ---\n",
    "    response = client.chat.completions.create(\n",
    "    model=model, # Chọn model bạn muốn #gemini-2.5-flash\n",
    "    messages=messages\n",
    "    )\n",
    "\n",
    "    return response.choices[0].message.content"
   ]
  },
  {
   "cell_type": "code",
   "execution_count": 7,
   "id": "89a0526e",
   "metadata": {},
   "outputs": [],
   "source": [
    "with open(\"/mnt/d/ai_thucchien/history_chat_template.txt\", \"r\") as f:\n",
    "    history_chat_template = f.read()"
   ]
  },
  {
   "cell_type": "code",
   "execution_count": null,
   "id": "d6ad361f",
   "metadata": {},
   "outputs": [
    {
     "data": {
      "text/plain": [
       "'dd\\nddd\\nddd\\ndd'"
      ]
     },
     "execution_count": 8,
     "metadata": {},
     "output_type": "execute_result"
    }
   ],
   "source": [
    "question = \"\"\n",
    "messages = [\n",
    "    {\n",
    "        \"role\": \"system\",\n",
    "        \"content\": PROMPT_GEN_TEMPLATE\n",
    "        },\n",
    "    {\n",
    "        \"role\": \"user\",\n",
    "        \"content\": f\"<history_chat>{history_chat_template}</history_chat>\\n<user_request>{question}</user_request>\"\n",
    "    }\n",
    "    ]\n",
    "model = \"gemini-2.5-flash\"\n",
    "response = text_generation(model, messages)\n",
    "print(response)"
   ]
  },
  {
   "cell_type": "markdown",
   "id": "838a7194",
   "metadata": {},
   "source": [
    "# Gen image"
   ]
  }
 ],
 "metadata": {
  "kernelspec": {
   "display_name": "tla",
   "language": "python",
   "name": "python3"
  },
  "language_info": {
   "codemirror_mode": {
    "name": "ipython",
    "version": 3
   },
   "file_extension": ".py",
   "mimetype": "text/x-python",
   "name": "python",
   "nbconvert_exporter": "python",
   "pygments_lexer": "ipython3",
   "version": "3.11.11"
  }
 },
 "nbformat": 4,
 "nbformat_minor": 5
}
